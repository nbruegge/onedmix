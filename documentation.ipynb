{
 "cells": [
  {
   "cell_type": "markdown",
   "metadata": {},
   "source": [
    "# Manual for 1dmix\n",
    "\n",
    "## Overview of files\n",
    "\n",
    "|Rotuine               | Description                   |\n",
    "|:---------------------|:------------------------------|\n",
    "|1dmix_main.f90        | Main model routine            |\n",
    "|1dmix_asdf.f90        | Other routine                 |\n",
    "\n",
    "## Model structure\n",
    "\n",
    "* 1dmix_driver.f90:\n",
    " * call setup_model\n",
    " * call setup_**mixing_scheme**\n",
    " * time loop:\n",
    "   * calc_mixing\n",
    "* 1dmix_main.f90\n",
    " * module containing all important model variables\n",
    "* 1dmix_setup.f90\n",
    " * subroutine setup_model\n",
    "   * call read_namelist\n",
    "   * call allocate_variables\n",
    " * subroutine read_namelist\n",
    " * subroutine allocate_variables\n",
    "* 1dmix_mymix_tke.f90\n",
    " * subroutine setup_mymix_tke\n",
    " * subroutine integrate_mymix_tke\n",
    "* 1dmix_mymix_pp.f90\n",
    " * subroutine su\n",
    "\n",
    "\n",
    "\n",
    "## Starting the model\n",
    "\n",
    "## Diagnosing model output"
   ]
  },
  {
   "cell_type": "code",
   "execution_count": null,
   "metadata": {
    "collapsed": true
   },
   "outputs": [],
   "source": []
  },
  {
   "cell_type": "code",
   "execution_count": null,
   "metadata": {
    "collapsed": true
   },
   "outputs": [],
   "source": []
  }
 ],
 "metadata": {
  "kernelspec": {
   "display_name": "Python 2",
   "language": "python",
   "name": "python2"
  },
  "language_info": {
   "codemirror_mode": {
    "name": "ipython",
    "version": 2
   },
   "file_extension": ".py",
   "mimetype": "text/x-python",
   "name": "python",
   "nbconvert_exporter": "python",
   "pygments_lexer": "ipython2",
   "version": "2.7.9"
  }
 },
 "nbformat": 4,
 "nbformat_minor": 2
}
